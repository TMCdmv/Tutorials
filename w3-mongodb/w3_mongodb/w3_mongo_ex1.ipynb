{
 "cells": [
  {
   "cell_type": "code",
   "execution_count": 1,
   "metadata": {},
   "outputs": [],
   "source": [
    "import pymongo"
   ]
  },
  {
   "cell_type": "code",
   "execution_count": 2,
   "metadata": {},
   "outputs": [],
   "source": [
    "myclient = pymongo.MongoClient(\"mongodb://localhost:27017/\")"
   ]
  },
  {
   "cell_type": "code",
   "execution_count": 3,
   "metadata": {},
   "outputs": [],
   "source": [
    "mydb = myclient[\"w3_db1\"]"
   ]
  },
  {
   "cell_type": "code",
   "execution_count": 4,
   "metadata": {},
   "outputs": [
    {
     "name": "stdout",
     "output_type": "stream",
     "text": [
      "['admin', 'config', 'local']\n"
     ]
    }
   ],
   "source": [
    "print(myclient.list_database_names())"
   ]
  },
  {
   "cell_type": "code",
   "execution_count": 5,
   "metadata": {},
   "outputs": [],
   "source": [
    "mycol = mydb[\"customers\"]"
   ]
  },
  {
   "cell_type": "code",
   "execution_count": 6,
   "metadata": {},
   "outputs": [
    {
     "name": "stdout",
     "output_type": "stream",
     "text": [
      "62b261db785cd7e8a5242a08\n"
     ]
    }
   ],
   "source": [
    "mydict = { \"name\": \"John\", \"address\": \"Highway 37\" }\n",
    "x = mycol.insert_one(mydict)\n",
    "print(x.inserted_id)"
   ]
  },
  {
   "cell_type": "code",
   "execution_count": 7,
   "metadata": {},
   "outputs": [
    {
     "name": "stdout",
     "output_type": "stream",
     "text": [
      "['admin', 'config', 'local', 'w3_db1']\n"
     ]
    }
   ],
   "source": [
    "print(myclient.list_database_names())"
   ]
  },
  {
   "cell_type": "code",
   "execution_count": 8,
   "metadata": {},
   "outputs": [
    {
     "name": "stdout",
     "output_type": "stream",
     "text": [
      "['customers']\n"
     ]
    }
   ],
   "source": [
    "print(mydb.list_collection_names())"
   ]
  },
  {
   "cell_type": "markdown",
   "metadata": {},
   "source": [
    "### Insert Multiple Documents"
   ]
  },
  {
   "cell_type": "code",
   "execution_count": 9,
   "metadata": {},
   "outputs": [],
   "source": [
    "mylist = [\n",
    "  { \"name\": \"Amy\", \"address\": \"Apple st 652\"},\n",
    "  { \"name\": \"Hannah\", \"address\": \"Mountain 21\"},\n",
    "  { \"name\": \"Michael\", \"address\": \"Valley 345\"},\n",
    "  { \"name\": \"Sandy\", \"address\": \"Ocean blvd 2\"},\n",
    "  { \"name\": \"Betty\", \"address\": \"Green Grass 1\"},\n",
    "  { \"name\": \"Richard\", \"address\": \"Sky st 331\"},\n",
    "  { \"name\": \"Susan\", \"address\": \"One way 98\"},\n",
    "  { \"name\": \"Vicky\", \"address\": \"Yellow Garden 2\"},\n",
    "  { \"name\": \"Ben\", \"address\": \"Park Lane 38\"},\n",
    "  { \"name\": \"William\", \"address\": \"Central st 954\"},\n",
    "  { \"name\": \"Chuck\", \"address\": \"Main Road 989\"},\n",
    "  { \"name\": \"Viola\", \"address\": \"Sideway 1633\"}\n",
    "]"
   ]
  },
  {
   "cell_type": "code",
   "execution_count": 10,
   "metadata": {},
   "outputs": [
    {
     "name": "stdout",
     "output_type": "stream",
     "text": [
      "[ObjectId('62b26459785cd7e8a5242a09'), ObjectId('62b26459785cd7e8a5242a0a'), ObjectId('62b26459785cd7e8a5242a0b'), ObjectId('62b26459785cd7e8a5242a0c'), ObjectId('62b26459785cd7e8a5242a0d'), ObjectId('62b26459785cd7e8a5242a0e'), ObjectId('62b26459785cd7e8a5242a0f'), ObjectId('62b26459785cd7e8a5242a10'), ObjectId('62b26459785cd7e8a5242a11'), ObjectId('62b26459785cd7e8a5242a12'), ObjectId('62b26459785cd7e8a5242a13'), ObjectId('62b26459785cd7e8a5242a14')]\n"
     ]
    }
   ],
   "source": [
    "x = mycol.insert_many(mylist)\n",
    "\n",
    "#print list of the _id values of the inserted documents:\n",
    "print(x.inserted_ids)"
   ]
  },
  {
   "cell_type": "markdown",
   "metadata": {},
   "source": [
    "### Insert Multiple Documents, with Specified IDs\n",
    "\n",
    "If you do not want MongoDB to assign unique ids for you document, you can specify the _id field when you insert the document(s).\n",
    "\n",
    "Remember that the values has to be unique. Two documents cannot have the same _id."
   ]
  },
  {
   "cell_type": "code",
   "execution_count": 11,
   "metadata": {},
   "outputs": [],
   "source": [
    "mylist2 = [\n",
    "  { \"_id\": 1, \"name\": \"John\", \"address\": \"Highway 37\"},\n",
    "  { \"_id\": 2, \"name\": \"Peter\", \"address\": \"Lowstreet 27\"},\n",
    "  { \"_id\": 3, \"name\": \"Amy\", \"address\": \"Apple st 652\"},\n",
    "  { \"_id\": 4, \"name\": \"Hannah\", \"address\": \"Mountain 21\"},\n",
    "  { \"_id\": 5, \"name\": \"Michael\", \"address\": \"Valley 345\"},\n",
    "  { \"_id\": 6, \"name\": \"Sandy\", \"address\": \"Ocean blvd 2\"},\n",
    "  { \"_id\": 7, \"name\": \"Betty\", \"address\": \"Green Grass 1\"},\n",
    "  { \"_id\": 8, \"name\": \"Richard\", \"address\": \"Sky st 331\"},\n",
    "  { \"_id\": 9, \"name\": \"Susan\", \"address\": \"One way 98\"},\n",
    "  { \"_id\": 10, \"name\": \"Vicky\", \"address\": \"Yellow Garden 2\"},\n",
    "  { \"_id\": 11, \"name\": \"Ben\", \"address\": \"Park Lane 38\"},\n",
    "  { \"_id\": 12, \"name\": \"William\", \"address\": \"Central st 954\"},\n",
    "  { \"_id\": 13, \"name\": \"Chuck\", \"address\": \"Main Road 989\"},\n",
    "  { \"_id\": 14, \"name\": \"Viola\", \"address\": \"Sideway 1633\"}\n",
    "]"
   ]
  },
  {
   "cell_type": "code",
   "execution_count": 12,
   "metadata": {},
   "outputs": [
    {
     "name": "stdout",
     "output_type": "stream",
     "text": [
      "[1, 2, 3, 4, 5, 6, 7, 8, 9, 10, 11, 12, 13, 14]\n"
     ]
    }
   ],
   "source": [
    "x = mycol.insert_many(mylist2)\n",
    "\n",
    "#print list of the _id values of the inserted documents:\n",
    "print(x.inserted_ids)"
   ]
  },
  {
   "cell_type": "code",
   "execution_count": null,
   "metadata": {},
   "outputs": [],
   "source": []
  }
 ],
 "metadata": {
  "kernelspec": {
   "display_name": "Python 3.10.4 ('tutorials-OF_2s8C--py3.10')",
   "language": "python",
   "name": "python3"
  },
  "language_info": {
   "codemirror_mode": {
    "name": "ipython",
    "version": 3
   },
   "file_extension": ".py",
   "mimetype": "text/x-python",
   "name": "python",
   "nbconvert_exporter": "python",
   "pygments_lexer": "ipython3",
   "version": "3.10.4"
  },
  "orig_nbformat": 4,
  "vscode": {
   "interpreter": {
    "hash": "81de3dddc1f05fa74f05e5967d26e7ea482abb92f50e047c7bf6b12f288ae76b"
   }
  }
 },
 "nbformat": 4,
 "nbformat_minor": 2
}
