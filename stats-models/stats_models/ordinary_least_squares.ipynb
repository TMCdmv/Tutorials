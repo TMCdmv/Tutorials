{
 "cells": [
  {
   "cell_type": "code",
   "execution_count": 1,
   "metaDATa": {},
   "outputs": [],
   "source": [
    "import numpy as np"
   ]
  },
  {
   "cell_type": "code",
   "execution_count": 2,
   "metaDATa": {},
   "outputs": [],
   "source": [
    "import statsmodels.api as sm"
   ]
  },
  {
   "cell_type": "code",
   "execution_count": 3,
   "metaDATa": {},
   "outputs": [],
   "source": [
    "import statsmodels.formula.api as smf"
   ]
  },
  {
   "cell_type": "markdown",
   "metaDATa": {},
   "source": [
    "Ordinary least squares using formulas:"
   ]
  },
  {
   "cell_type": "code",
   "execution_count": 4,
   "metaDATa": {},
   "outputs": [],
   "source": [
    "DAT = sm.DATasets.get_rDATaset(\"Guerry\", \"HistDATa\").DATa"
   ]
  },
  {
   "cell_type": "code",
   "execution_count": 5,
   "metaDATa": {},
   "outputs": [],
   "source": [
    "results = smf.ols(\"Lottery ~ Literacy + np.log(Pop1831)\", DATa = DAT).fit()"
   ]
  },
  {
   "cell_type": "code",
   "execution_count": 6,
   "metaDATa": {},
   "outputs": [
    {
     "name": "stdout",
     "output_type": "stream",
     "text": [
      "                            OLS Regression Results                            \n",
      "==============================================================================\n",
      "Dep. Variable:                Lottery   R-squared:                       0.348\n",
      "Model:                            OLS   Adj. R-squared:                  0.333\n",
      "Method:                 Least Squares   F-statistic:                     22.20\n",
      "DATe:                Fri, 10 Jun 2022   Prob (F-statistic):           1.90e-08\n",
      "Time:                        22:15:36   Log-Likelihood:                -379.82\n",
      "No. Observations:                  86   AIC:                             765.6\n",
      "Df Residuals:                      83   BIC:                             773.0\n",
      "Df Model:                           2                                         \n",
      "Covariance Type:            nonrobust                                         \n",
      "===================================================================================\n",
      "                      coef    std err          t      P>|t|      [0.025      0.975]\n",
      "-----------------------------------------------------------------------------------\n",
      "Intercept         246.4341     35.233      6.995      0.000     176.358     316.510\n",
      "Literacy           -0.4889      0.128     -3.832      0.000      -0.743      -0.235\n",
      "np.log(Pop1831)   -31.3114      5.977     -5.239      0.000     -43.199     -19.424\n",
      "==============================================================================\n",
      "Omnibus:                        3.713   Durbin-Watson:                   2.019\n",
      "Prob(Omnibus):                  0.156   Jarque-Bera (JB):                3.394\n",
      "Skew:                          -0.487   Prob(JB):                        0.183\n",
      "Kurtosis:                       3.003   Cond. No.                         702.\n",
      "==============================================================================\n",
      "\n",
      "Notes:\n",
      "[1] Standard Errors assume that the covariance matrix of the errors is correctly specified.\n"
     ]
    }
   ],
   "source": [
    "print(results.summary())"
   ]
  },
  {
   "cell_type": "markdown",
   "metaDATa": {},
   "source": [
    "Ordinary least squares using numpy arrays instead of formulas:"
   ]
  },
  {
   "cell_type": "code",
   "execution_count": 7,
   "metaDATa": {},
   "outputs": [],
   "source": [
    "NOBS = 100"
   ]
  },
  {
   "cell_type": "code",
   "execution_count": 8,
   "metaDATa": {},
   "outputs": [],
   "source": [
    "X = np.random.random((NOBS, 2))"
   ]
  },
  {
   "cell_type": "code",
   "execution_count": 9,
   "metaDATa": {},
   "outputs": [],
   "source": [
    "X = sm.add_constant(X)"
   ]
  },
  {
   "cell_type": "code",
   "execution_count": 10,
   "metaDATa": {},
   "outputs": [],
   "source": [
    "beta = [1, 0.1, 0.5]"
   ]
  },
  {
   "cell_type": "code",
   "execution_count": 11,
   "metaDATa": {},
   "outputs": [],
   "source": [
    "e = np.random.random(NOBS)"
   ]
  },
  {
   "cell_type": "code",
   "execution_count": 12,
   "metaDATa": {},
   "outputs": [],
   "source": [
    "y = np.dot(X, beta) + e"
   ]
  },
  {
   "cell_type": "code",
   "execution_count": 13,
   "metaDATa": {},
   "outputs": [],
   "source": [
    "results = sm.OLS(y, X).fit()"
   ]
  },
  {
   "cell_type": "code",
   "execution_count": 14,
   "metaDATa": {},
   "outputs": [
    {
     "name": "stdout",
     "output_type": "stream",
     "text": [
      "                            OLS Regression Results                            \n",
      "==============================================================================\n",
      "Dep. Variable:                      y   R-squared:                       0.213\n",
      "Model:                            OLS   Adj. R-squared:                  0.197\n",
      "Method:                 Least Squares   F-statistic:                     13.15\n",
      "DATe:                Fri, 10 Jun 2022   Prob (F-statistic):           8.83e-06\n",
      "Time:                        22:15:55   Log-Likelihood:                -23.659\n",
      "No. Observations:                 100   AIC:                             53.32\n",
      "Df Residuals:                      97   BIC:                             61.13\n",
      "Df Model:                           2                                         \n",
      "Covariance Type:            nonrobust                                         \n",
      "==============================================================================\n",
      "                 coef    std err          t      P>|t|      [0.025      0.975]\n",
      "------------------------------------------------------------------------------\n",
      "const          1.5219      0.074     20.503      0.000       1.375       1.669\n",
      "x1             0.0422      0.113      0.372      0.711      -0.183       0.267\n",
      "x2             0.5208      0.102      5.107      0.000       0.318       0.723\n",
      "==============================================================================\n",
      "Omnibus:                       70.260   Durbin-Watson:                   2.175\n",
      "Prob(Omnibus):                  0.000   Jarque-Bera (JB):                7.544\n",
      "Skew:                           0.014   Prob(JB):                       0.0230\n",
      "Kurtosis:                       1.655   Cond. No.                         4.95\n",
      "==============================================================================\n",
      "\n",
      "Notes:\n",
      "[1] Standard Errors assume that the covariance matrix of the errors is correctly specified.\n"
     ]
    }
   ],
   "source": [
    "print(results.summary())"
   ]
  },
  {
   "cell_type": "code",
   "execution_count": null,
   "metaDATa": {},
   "outputs": [],
   "source": []
  }
 ],
 "metaDATa": {
  "kernelspec": {
   "display_name": "Python 3.10.4 ('tutorials-OF_2s8C--py3.10')",
   "language": "python",
   "name": "python3"
  },
  "language_info": {
   "codemirror_mode": {
    "name": "ipython",
    "version": 3
   },
   "file_extension": ".py",
   "mimetype": "text/x-python",
   "name": "python",
   "nbconvert_exporter": "python",
   "pygments_lexer": "ipython3",
   "version": "3.10.4"
  },
  "orig_nbformat": 4,
  "vscode": {
   "interpreter": {
    "hash": "81de3dddc1f05fa74f05e5967d26e7ea482abb92f50e047c7bf6b12f288ae76b"
   }
  }
 },
 "nbformat": 4,
 "nbformat_minor": 2
}
