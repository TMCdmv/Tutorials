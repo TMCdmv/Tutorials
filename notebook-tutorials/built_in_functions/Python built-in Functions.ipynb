{
 "cells": [
  {
   "cell_type": "markdown",
   "metadata": {},
   "source": [
    "### Built-in Functions in Python"
   ]
  },
  {
   "cell_type": "markdown",
   "metadata": {},
   "source": [
    "Based on tutorial by Python Morsels at:\n",
    "https://www.pythonmorsels.com/built-in-functions-in-python/\n",
    "\n",
    "Also, We're going to look through the Built-in Functions page in the Python documentation with this approach in mind.\n",
    "https://docs.python.org/3/library/functions.html\n"
   ]
  },
  {
   "cell_type": "markdown",
   "metadata": {},
   "source": [
    "There are dozens of built-in functions and classes, hundreds of tools bundled in Python's standard library, and thousands of third-party libraries on PyPI. There's no way anyone could ever memorize all of these things.\n",
    "\n",
    "I recommend triaging your knowledge:\n",
    "\n",
    "- Things I should memorize such that I know them well\n",
    "- Things I should know about so I can look them up more effectively later\n",
    "- Things I shouldn't bother with at all until/unless I need them one day"
   ]
  }
 ],
 "metadata": {
  "kernelspec": {
   "display_name": "Python 3.10.4 ('tutorials-OF_2s8C--py3.10')",
   "language": "python",
   "name": "python3"
  },
  "language_info": {
   "name": "python",
   "version": "3.10.4"
  },
  "orig_nbformat": 4,
  "vscode": {
   "interpreter": {
    "hash": "81de3dddc1f05fa74f05e5967d26e7ea482abb92f50e047c7bf6b12f288ae76b"
   }
  }
 },
 "nbformat": 4,
 "nbformat_minor": 2
}
