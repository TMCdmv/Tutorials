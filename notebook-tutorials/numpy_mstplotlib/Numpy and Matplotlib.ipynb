{
 "cells": [
  {
   "cell_type": "markdown",
   "metadata": {},
   "source": []
  },
  {
   "cell_type": "markdown",
   "metadata": {},
   "source": [
    "Based on tutorial by sebastian raschka at:\n",
    "https://sebastianraschka.com/blog/2020/numpy-intro.html\n",
    "\n",
    "\n"
   ]
  },
  {
   "cell_type": "markdown",
   "metadata": {},
   "source": []
  }
 ],
 "metadata": {
  "kernelspec": {
   "display_name": "Python 3.10.4 ('tutorials-OF_2s8C--py3.10')",
   "language": "python",
   "name": "python3"
  },
  "language_info": {
   "name": "python",
   "version": "3.10.4"
  },
  "orig_nbformat": 4,
  "vscode": {
   "interpreter": {
    "hash": "81de3dddc1f05fa74f05e5967d26e7ea482abb92f50e047c7bf6b12f288ae76b"
   }
  }
 },
 "nbformat": 4,
 "nbformat_minor": 2
}
