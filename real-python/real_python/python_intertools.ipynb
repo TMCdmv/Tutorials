{
 "cells": [
  {
   "cell_type": "markdown",
   "metadata": {},
   "source": [
    "### `Itertools` in Python 3, by example"
   ]
  },
  {
   "cell_type": "markdown",
   "metadata": {},
   "source": [
    "Real Python tutoral: https://realpython.com/python-itertools/\n"
   ]
  },
  {
   "cell_type": "markdown",
   "metadata": {},
   "source": [
    "A handful of excellent resources exist for learning what functions are available in the `itertools` module. The [docs](https://docs.python.org/3/library/itertools.html) themselves are a great place to start. So is this post."
   ]
  },
  {
   "cell_type": "markdown",
   "metadata": {},
   "source": [
    "This article takes a different approach. Rather than introducing itertools to you one function at a time, you will construct practical examples designed to encourage you to “think iteratively.” In general, the examples will start simple and gradually increase in complexity. *The real power lies in composing these functions to create fast, memory-efficient, and good-looking code.*  \n",
    "\n",
    "This article takes a different approach. Rather than introducing `itertools` to you one function at a time, you will construct practical examples designed to encourage you to “think iteratively.” In general, the examples will start simple and gradually increase in complexity.\n",
    "\n",
    "A word of warning: this article is long and intended for the intermediate-to-advanced Python programmer. Before diving in, you should be confident using iterators and generators in Python 3, multiple assignment, and tuple unpacking. If you aren’t, or if you need to brush up on your knowledge, consider checking out the following before reading on:  \n",
    "- [Python Iterators: A Step-By-Step Introduction](https://dbader.org/blog/python-iterators)\n",
    "- [Introduction to Python Generators](https://realpython.com/introduction-to-python-generators/)\n",
    "- Chapter 6 of [Python Tricks: The Book](https://realpython.com/asins/1775093301/) by Dan Bader\n",
    "- [Multiple assignment and tuple unpacking improve Python code readability](http://treyhunner.com/2018/03/tuple-unpacking-improves-python-code-readability/)"
   ]
  },
  {
   "cell_type": "markdown",
   "metadata": {},
   "source": [
    "#### What Is `Itertools` and Why Should You Use It?"
   ]
  }
 ],
 "metadata": {
  "kernelspec": {
   "display_name": "Python 3.10.4 ('tutorials-OF_2s8C--py3.10')",
   "language": "python",
   "name": "python3"
  },
  "language_info": {
   "name": "python",
   "version": "3.10.4"
  },
  "orig_nbformat": 4,
  "vscode": {
   "interpreter": {
    "hash": "81de3dddc1f05fa74f05e5967d26e7ea482abb92f50e047c7bf6b12f288ae76b"
   }
  }
 },
 "nbformat": 4,
 "nbformat_minor": 2
}
