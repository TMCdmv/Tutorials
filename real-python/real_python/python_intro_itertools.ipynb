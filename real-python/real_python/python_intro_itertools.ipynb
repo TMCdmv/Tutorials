{
 "cells": [
  {
   "cell_type": "markdown",
   "metadata": {},
   "source": [
    "### Python Iterators: A Step-By-Step Introduction\n",
    "Real python tutotial: https://dbader.org/blog/python-iterators"
   ]
  },
  {
   "cell_type": "markdown",
   "metadata": {},
   "source": []
  }
 ],
 "metadata": {
  "language_info": {
   "name": "python"
  },
  "orig_nbformat": 4
 },
 "nbformat": 4,
 "nbformat_minor": 2
}
