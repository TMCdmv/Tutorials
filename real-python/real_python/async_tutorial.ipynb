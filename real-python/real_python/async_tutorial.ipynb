{
 "cells": [
  {
   "cell_type": "markdown",
   "metadata": {},
   "source": [
    "### Getting Started With Async Features in Python\n",
    "From Real Python at\n",
    "https://realpython.com/python-async-features/\n",
    "\n",
    "Blog entry from Mike Driscoll: https://www.blog.pythonlibrary.org/2016/07/26/python-3-an-intro-to-asyncio/  \n",
    "\n",
    "Tweet thread from Mike Driscoll Your first stop when learning about async in #Python is the official documentation. There you will learn about the following: 🐍 The `asyncio` module 🐍 The `async` and `await`: https://docs.python.org/3/library/asyncio.html\n"
   ]
  }
 ],
 "metadata": {
  "kernelspec": {
   "display_name": "Python 3.10.4 ('tutorials-OF_2s8C--py3.10')",
   "language": "python",
   "name": "python3"
  },
  "language_info": {
   "name": "python",
   "version": "3.10.4"
  },
  "orig_nbformat": 4,
  "vscode": {
   "interpreter": {
    "hash": "81de3dddc1f05fa74f05e5967d26e7ea482abb92f50e047c7bf6b12f288ae76b"
   }
  }
 },
 "nbformat": 4,
 "nbformat_minor": 2
}
